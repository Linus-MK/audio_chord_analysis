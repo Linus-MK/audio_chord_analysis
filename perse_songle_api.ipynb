{
 "cells": [
  {
   "cell_type": "markdown",
   "metadata": {},
   "source": [
    "# 楽曲のコード進行を取得したい。\n",
    "\n",
    "## Songleを用いたやり方  \n",
    "\n",
    "https://songle.jp/ にはAPIが公開されている  \n",
    "http://widget.songle.jp/docs/v1 を読むと、  \n",
    "http://widget.songle.jp/api/v1/song/chord.json?url=www.youtube.com/watch?v=PqJNc9KVIZE  \n",
    "のようにすればコード進行のjsonを取得できるようだ。\n",
    "\n",
    "REST API なのでHTTPメソッドでアクセスすればよく、pythonからはrequestsでデータを取得可能。  \n",
    "https://note.nkmk.me/python-requests-web-api/"
   ]
  },
  {
   "cell_type": "code",
   "execution_count": 4,
   "metadata": {},
   "outputs": [],
   "source": [
    "import requests"
   ]
  },
  {
   "cell_type": "code",
   "execution_count": 7,
   "metadata": {},
   "outputs": [
    {
     "name": "stdout",
     "output_type": "stream",
     "text": [
      "200\n"
     ]
    }
   ],
   "source": [
    "song_url = \"www.youtube.com/watch?v=LtSNzPyo0lA\"\n",
    "# ぼくらはみんな意味不明 ピノキオピー\n",
    "\n",
    "r_get = requests.get(\"http://widget.songle.jp/api/v1/song/chord.json?url=\" + song_url)\n",
    "\n",
    "print(r_get.status_code)"
   ]
  },
  {
   "cell_type": "code",
   "execution_count": 8,
   "metadata": {},
   "outputs": [
    {
     "data": {
      "text/plain": [
       "{'Server': 'nginx', 'Date': 'Wed, 19 Dec 2018 15:16:05 GMT', 'Content-Type': 'application/json; charset=utf-8', 'Transfer-Encoding': 'chunked', 'Connection': 'keep-alive', 'Status': '200 OK', 'Cache-Control': 'max-age=0, private, must-revalidate', 'Access-Control-Allow-Origin': '*', 'ETag': 'W/\"d78bac811763b859e90b56a77a7894c4\"', 'X-Frame-Options': 'SAMEORIGIN', 'X-XSS-Protection': '1; mode=block', 'X-Content-Type-Options': 'nosniff', 'X-Runtime': '0.380415', 'X-Request-Id': '8e269ab0-b21a-461b-aad1-4c155acab185', 'Content-Encoding': 'gzip'}"
      ]
     },
     "execution_count": 8,
     "metadata": {},
     "output_type": "execute_result"
    }
   ],
   "source": [
    "r_get.headers"
   ]
  },
  {
   "cell_type": "code",
   "execution_count": null,
   "metadata": {},
   "outputs": [],
   "source": []
  }
 ],
 "metadata": {
  "kernelspec": {
   "display_name": "Python 3",
   "language": "python",
   "name": "python3"
  },
  "language_info": {
   "codemirror_mode": {
    "name": "ipython",
    "version": 3
   },
   "file_extension": ".py",
   "mimetype": "text/x-python",
   "name": "python",
   "nbconvert_exporter": "python",
   "pygments_lexer": "ipython3",
   "version": "3.7.1"
  }
 },
 "nbformat": 4,
 "nbformat_minor": 2
}
