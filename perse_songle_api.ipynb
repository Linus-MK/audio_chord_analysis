{
 "cells": [
  {
   "cell_type": "markdown",
   "metadata": {},
   "source": [
    "# 楽曲のコード進行を取得したい。\n",
    "\n",
    "## Songleを用いたやり方  \n",
    "\n",
    "https://songle.jp/ にはAPIが公開されている  \n",
    "http://widget.songle.jp/docs/v1 を読むと、  \n",
    "http://widget.songle.jp/api/v1/song/chord.json?url=www.youtube.com/watch?v=PqJNc9KVIZE  \n",
    "のようにすればコード進行のjsonを取得できるようだ。\n",
    "\n",
    "REST API なのでHTTPメソッドでアクセスすればよく、pythonからはrequestsでデータを取得可能。  \n",
    "https://note.nkmk.me/python-requests-web-api/"
   ]
  },
  {
   "cell_type": "code",
   "execution_count": 4,
   "metadata": {},
   "outputs": [],
   "source": [
    "import requests"
   ]
  },
  {
   "cell_type": "code",
   "execution_count": 7,
   "metadata": {},
   "outputs": [
    {
     "name": "stdout",
     "output_type": "stream",
     "text": [
      "200\n"
     ]
    }
   ],
   "source": [
    "song_url = \"www.youtube.com/watch?v=LtSNzPyo0lA\"\n",
    "# ぼくらはみんな意味不明 ピノキオピー\n",
    "\n",
    "r_get = requests.get(\"http://widget.songle.jp/api/v1/song/chord.json?url=\" + song_url)\n",
    "\n",
    "print(r_get.status_code)"
   ]
  },
  {
   "cell_type": "code",
   "execution_count": 8,
   "metadata": {},
   "outputs": [
    {
     "data": {
      "text/plain": [
       "{'Server': 'nginx', 'Date': 'Wed, 19 Dec 2018 15:16:05 GMT', 'Content-Type': 'application/json; charset=utf-8', 'Transfer-Encoding': 'chunked', 'Connection': 'keep-alive', 'Status': '200 OK', 'Cache-Control': 'max-age=0, private, must-revalidate', 'Access-Control-Allow-Origin': '*', 'ETag': 'W/\"d78bac811763b859e90b56a77a7894c4\"', 'X-Frame-Options': 'SAMEORIGIN', 'X-XSS-Protection': '1; mode=block', 'X-Content-Type-Options': 'nosniff', 'X-Runtime': '0.380415', 'X-Request-Id': '8e269ab0-b21a-461b-aad1-4c155acab185', 'Content-Encoding': 'gzip'}"
      ]
     },
     "execution_count": 8,
     "metadata": {},
     "output_type": "execute_result"
    }
   ],
   "source": [
    "r_get.headers"
   ]
  },
  {
   "cell_type": "code",
   "execution_count": 10,
   "metadata": {},
   "outputs": [
    {
     "data": {
      "text/plain": [
       "[{'index': 0, 'start': 0, 'duration': 3283, 'name': 'N'},\n",
       " {'index': 1, 'start': 3283, 'duration': 2128, 'name': 'Abm7'},\n",
       " {'index': 2, 'start': 5411, 'duration': 1056, 'name': 'C#m7'},\n",
       " {'index': 3, 'start': 6467, 'duration': 1066, 'name': 'F#'},\n",
       " {'index': 4, 'start': 7533, 'duration': 2123, 'name': 'Abm7'},\n",
       " {'index': 5, 'start': 9656, 'duration': 1061, 'name': 'C#m7'},\n",
       " {'index': 6, 'start': 10717, 'duration': 9550, 'name': 'N'},\n",
       " {'index': 7, 'start': 20267, 'duration': 6377, 'name': 'Abm'},\n",
       " {'index': 8, 'start': 26644, 'duration': 2123, 'name': 'N'},\n",
       " {'index': 9, 'start': 28767, 'duration': 2122, 'name': 'Abm'},\n",
       " {'index': 10, 'start': 30889, 'duration': 1061, 'name': 'B/C#'},\n",
       " {'index': 11, 'start': 31950, 'duration': 1067, 'name': 'F#'},\n",
       " {'index': 12, 'start': 33017, 'duration': 2116, 'name': 'Abm7'},\n",
       " {'index': 13, 'start': 35133, 'duration': 1067, 'name': 'B/C#'},\n",
       " {'index': 14, 'start': 36200, 'duration': 1067, 'name': 'Bbm'},\n",
       " {'index': 15, 'start': 37267, 'duration': 2116, 'name': 'Abm'},\n",
       " {'index': 16, 'start': 39383, 'duration': 1067, 'name': 'B/C#'},\n",
       " {'index': 17, 'start': 40450, 'duration': 1067, 'name': 'Bbm'},\n",
       " {'index': 18, 'start': 41517, 'duration': 2116, 'name': 'Abm'},\n",
       " {'index': 19, 'start': 43633, 'duration': 2123, 'name': 'C#m7'},\n",
       " {'index': 20, 'start': 45756, 'duration': 2127, 'name': 'E/G#'},\n",
       " {'index': 21, 'start': 47883, 'duration': 2117, 'name': 'B'},\n",
       " {'index': 22, 'start': 50000, 'duration': 2133, 'name': 'Ebm'},\n",
       " {'index': 23, 'start': 52133, 'duration': 2117, 'name': 'B6'},\n",
       " {'index': 24, 'start': 54250, 'duration': 2133, 'name': 'E/G#'},\n",
       " {'index': 25, 'start': 56383, 'duration': 2117, 'name': 'B'},\n",
       " {'index': 26, 'start': 58500, 'duration': 1067, 'name': 'C#'},\n",
       " {'index': 27, 'start': 59567, 'duration': 1055, 'name': 'Fdim7'},\n",
       " {'index': 28, 'start': 60622, 'duration': 1061, 'name': 'F#7'},\n",
       " {'index': 29, 'start': 61683, 'duration': 1067, 'name': 'Eb7'},\n",
       " {'index': 30, 'start': 62750, 'duration': 2128, 'name': 'N'},\n",
       " {'index': 31, 'start': 64878, 'duration': 2122, 'name': 'Abm'},\n",
       " {'index': 32, 'start': 67000, 'duration': 2122, 'name': 'N'},\n",
       " {'index': 33, 'start': 69122, 'duration': 2128, 'name': 'Abm7'},\n",
       " {'index': 34, 'start': 71250, 'duration': 1056, 'name': 'EM7'},\n",
       " {'index': 35, 'start': 72306, 'duration': 1061, 'name': 'B/F#'},\n",
       " {'index': 36, 'start': 73367, 'duration': 2127, 'name': 'Abm'},\n",
       " {'index': 37, 'start': 75494, 'duration': 1056, 'name': 'EM7'},\n",
       " {'index': 38, 'start': 76550, 'duration': 1067, 'name': 'F#'},\n",
       " {'index': 39, 'start': 77617, 'duration': 2133, 'name': 'Abm'},\n",
       " {'index': 40, 'start': 79750, 'duration': 1061, 'name': 'E'},\n",
       " {'index': 41, 'start': 80811, 'duration': 1056, 'name': 'F#'},\n",
       " {'index': 42, 'start': 81867, 'duration': 8500, 'name': 'Abm'},\n",
       " {'index': 43, 'start': 90367, 'duration': 2116, 'name': 'B/C#'},\n",
       " {'index': 44, 'start': 92483, 'duration': 6373, 'name': 'Abm'},\n",
       " {'index': 45, 'start': 98856, 'duration': 2116, 'name': 'N'},\n",
       " {'index': 46, 'start': 100972, 'duration': 2128, 'name': 'Abm'},\n",
       " {'index': 47, 'start': 103100, 'duration': 2128, 'name': 'B'},\n",
       " {'index': 48, 'start': 105228, 'duration': 2122, 'name': 'Ebm'},\n",
       " {'index': 49, 'start': 107350, 'duration': 2122, 'name': 'B6'},\n",
       " {'index': 50, 'start': 109472, 'duration': 2128, 'name': 'E/G#'},\n",
       " {'index': 51, 'start': 111600, 'duration': 2122, 'name': 'B'},\n",
       " {'index': 52, 'start': 113722, 'duration': 1061, 'name': 'C#'},\n",
       " {'index': 53, 'start': 114783, 'duration': 1067, 'name': 'Fdim7'},\n",
       " {'index': 54, 'start': 115850, 'duration': 1589, 'name': 'F#'},\n",
       " {'index': 55, 'start': 117439, 'duration': 2661, 'name': 'N'},\n",
       " {'index': 56, 'start': 120100, 'duration': 3183, 'name': 'Abm'},\n",
       " {'index': 57, 'start': 123283, 'duration': 1067, 'name': 'B/F#'},\n",
       " {'index': 58, 'start': 124350, 'duration': 2117, 'name': 'Abm7'},\n",
       " {'index': 59, 'start': 126467, 'duration': 1066, 'name': 'EM7'},\n",
       " {'index': 60, 'start': 127533, 'duration': 1056, 'name': 'B/F#'},\n",
       " {'index': 61, 'start': 128589, 'duration': 2128, 'name': 'Abm'},\n",
       " {'index': 62, 'start': 130717, 'duration': 1060, 'name': 'EM7'},\n",
       " {'index': 63, 'start': 131778, 'duration': 1055, 'name': 'F#'},\n",
       " {'index': 64, 'start': 132833, 'duration': 6384, 'name': 'Abm'},\n",
       " {'index': 65, 'start': 139217, 'duration': 2116, 'name': 'Abm'},\n",
       " {'index': 66, 'start': 141333, 'duration': 7434, 'name': 'Abm'},\n",
       " {'index': 67, 'start': 148767, 'duration': 1066, 'name': 'F#'},\n",
       " {'index': 68, 'start': 149833, 'duration': 3317, 'name': 'Abm'},\n",
       " {'index': 69, 'start': 153150, 'duration': 7211, 'name': 'N'},\n",
       " {'index': 70, 'start': 160361, 'duration': 1289, 'name': 'E'},\n",
       " {'index': 71, 'start': 161650, 'duration': 839, 'name': 'B/F#'},\n",
       " {'index': 72, 'start': 162489, 'duration': 2567, 'name': 'Abm'},\n",
       " {'index': 73, 'start': 165056, 'duration': 844, 'name': 'EM7'},\n",
       " {'index': 74, 'start': 165900, 'duration': 883, 'name': 'B/F#'},\n",
       " {'index': 75, 'start': 166783, 'duration': 3223, 'name': 'Ab'},\n",
       " {'index': 76, 'start': 170006, 'duration': 1061, 'name': 'Am'},\n",
       " {'index': 77, 'start': 171067, 'duration': 1066, 'name': 'FM7'},\n",
       " {'index': 78, 'start': 172133, 'duration': 1067, 'name': 'C/G'},\n",
       " {'index': 79, 'start': 173200, 'duration': 2117, 'name': 'Am'},\n",
       " {'index': 80, 'start': 175317, 'duration': 1066, 'name': 'FM7'},\n",
       " {'index': 81, 'start': 176383, 'duration': 1061, 'name': 'C/G'},\n",
       " {'index': 82, 'start': 177444, 'duration': 2123, 'name': 'Am7'},\n",
       " {'index': 83, 'start': 179567, 'duration': 2122, 'name': 'C/G'},\n",
       " {'index': 84, 'start': 181689, 'duration': 2128, 'name': 'Am'},\n",
       " {'index': 85, 'start': 183817, 'duration': 1061, 'name': 'FM7'},\n",
       " {'index': 86, 'start': 184878, 'duration': 1055, 'name': 'C/G'},\n",
       " {'index': 87, 'start': 185933, 'duration': 2134, 'name': 'Am'},\n",
       " {'index': 88, 'start': 188067, 'duration': 1055, 'name': 'FM7'},\n",
       " {'index': 89, 'start': 189122, 'duration': 1061, 'name': 'G'},\n",
       " {'index': 90, 'start': 190183, 'duration': 2117, 'name': 'Am'},\n",
       " {'index': 91, 'start': 192300, 'duration': 1067, 'name': 'FM7'},\n",
       " {'index': 92, 'start': 193367, 'duration': 1066, 'name': 'C/G'},\n",
       " {'index': 93, 'start': 194433, 'duration': 2117, 'name': 'Am'},\n",
       " {'index': 94, 'start': 196550, 'duration': 1067, 'name': 'F'},\n",
       " {'index': 95, 'start': 197617, 'duration': 1066, 'name': 'G'},\n",
       " {'index': 96, 'start': 198683, 'duration': 2117, 'name': 'Am7'},\n",
       " {'index': 97, 'start': 200800, 'duration': 1067, 'name': 'FM7'},\n",
       " {'index': 98, 'start': 201867, 'duration': 1066, 'name': 'G'},\n",
       " {'index': 99, 'start': 202933, 'duration': 4239, 'name': 'Am'},\n",
       " {'index': 100, 'start': 207172, 'duration': 14745, 'name': 'N'},\n",
       " {'index': 101, 'start': 221917, 'duration': 2966, 'name': 'Am7'},\n",
       " {'index': 102, 'start': 224883, 'duration': 5505, 'name': 'N'}]"
      ]
     },
     "execution_count": 10,
     "metadata": {},
     "output_type": "execute_result"
    }
   ],
   "source": [
    "r_get.json()['chords'] \n",
    "# キー'chords'に対応する値を取得する"
   ]
  },
  {
   "cell_type": "code",
   "execution_count": null,
   "metadata": {},
   "outputs": [],
   "source": []
  }
 ],
 "metadata": {
  "kernelspec": {
   "display_name": "Python 3",
   "language": "python",
   "name": "python3"
  },
  "language_info": {
   "codemirror_mode": {
    "name": "ipython",
    "version": 3
   },
   "file_extension": ".py",
   "mimetype": "text/x-python",
   "name": "python",
   "nbconvert_exporter": "python",
   "pygments_lexer": "ipython3",
   "version": "3.7.1"
  }
 },
 "nbformat": 4,
 "nbformat_minor": 2
}
