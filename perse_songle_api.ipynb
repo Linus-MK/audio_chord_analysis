{
 "cells": [
  {
   "cell_type": "markdown",
   "metadata": {},
   "source": [
    "# 楽曲のコード進行を取得したい。\n",
    "\n",
    "## Songleを用いたやり方  \n",
    "\n",
    "https://songle.jp/ にはAPIが公開されている  \n",
    "http://widget.songle.jp/docs/v1 を読むと、  \n",
    "http://widget.songle.jp/api/v1/song/chord.json?url=www.youtube.com/watch?v=PqJNc9KVIZE  \n",
    "のようにすればコード進行のjsonを取得できるようだ。\n",
    "\n",
    "REST API なのでHTTPメソッドでアクセスすればよく、pythonからはrequestsでデータを取得可能。  \n",
    "https://note.nkmk.me/python-requests-web-api/"
   ]
  },
  {
   "cell_type": "code",
   "execution_count": 1,
   "metadata": {},
   "outputs": [],
   "source": [
    "import requests\n",
    "import pandas as pd\n",
    "import json\n",
    "import numpy as np\n",
    "import re\n",
    "\n",
    "%matplotlib inline\n",
    "import matplotlib\n",
    "import matplotlib.pyplot as plt"
   ]
  },
  {
   "cell_type": "code",
   "execution_count": 2,
   "metadata": {},
   "outputs": [],
   "source": [
    "# 定数定義\n",
    "HALF_TONE_IN_OCTAVE = 12"
   ]
  },
  {
   "cell_type": "code",
   "execution_count": 3,
   "metadata": {},
   "outputs": [],
   "source": [
    "def get_chord_analysis(song_url):\n",
    "    r_get = requests.get(\"http://widget.songle.jp/api/v1/song/chord.json?url=\" + song_url)\n",
    "\n",
    "    if (r_get.status_code != 200):\n",
    "        print(\"ERROR! could not get the Songle API result.\")\n",
    "        print(\"status is \"+ r_get.status_code)\n",
    "        return None\n",
    "    p = r_get.json()['chords'] \n",
    "    # キー'chords'に対応する値を取得する\n",
    "    # type(p)はlist\n",
    "    # type(json.dumps(p)) はstr リスト→文字列 後続のread_jsonの入力が文字列じゃなきゃいけないので\n",
    "    # read_jsonの引数はURLでも良いので、\n",
    "    # pd.read_json(\"http://widget.songle.jp/api/v1/song/chord.json?url=www.nicovideo.jp/watch/sm30067009\")\n",
    "    # でもコードのデータが取れるが、これだと少し違う結果になってしまうので、今回はこのまま行く\n",
    "    chord_df = pd.read_json(json.dumps(p))\n",
    "    return chord_df\n",
    "\n",
    "    # read_json にorientというパラメータがある、今回は'records'が適合してそうだがデフォルトの'columns'になってる。"
   ]
  },
  {
   "cell_type": "code",
   "execution_count": 4,
   "metadata": {},
   "outputs": [],
   "source": [
    "song_url_bokura = \"www.youtube.com/watch?v=LtSNzPyo0lA\"\n",
    "# ぼくらはみんな意味不明 ピノキオピー\n",
    "\n",
    "df_bokura = get_chord_analysis(song_url_bokura)"
   ]
  },
  {
   "cell_type": "markdown",
   "metadata": {},
   "source": [
    "# 作戦会議\n",
    "\n",
    "「ある曲の「ある部分の」転調したときのコード構成が他の曲の「ある部分の」コード構成と類似している」ことが知りたい  \n",
    "\n",
    "・曲の区間を選び出す 方法は?→ 繰り返し構造がアノテートされているから、そこを拾えば行けそうだ感がある  \n",
    "・そこのコードの音程を分析する  \n",
    "    ・パース 原音とコード名 / N  \n",
    "    ・音程の導出  \n",
    "    ・分数コード(MVP段階では捨てても良い)  \n",
    "    \n",
    "・テンポ  \n",
    "　　・基準となる数値を見つける  \n",
    "  　・それぞれのdurationを基準値で割ってクオンタイズ  \n",
    "    ・同時に、BPMを推定\n",
    "\n",
    "・転調 は総当たりで行けるだろう、音程変化に対応する操作を実装するのは楽\n",
    "\n",
    "・コード構成の類似  durationが一致とは限らないので難しいが、基本的には構成音の共通がどれくらい多いかで見れば良さそう"
   ]
  },
  {
   "cell_type": "markdown",
   "metadata": {},
   "source": [
    "# 作戦会議2\n",
    "\n",
    "いや……一旦2曲の類似を確認するくらいならそんなに要らないんじゃないか?\n",
    "\n",
    "・サビ同士を決め打ちで区間抽出して、決め打ちで転調して、コード構成の類似を見れば良い!"
   ]
  },
  {
   "cell_type": "markdown",
   "metadata": {},
   "source": [
    "# やらないこと\n",
    "\n",
    "- 音楽コード分析の精度を追求しない\n",
    "- サビは16単位分の固定とする、長さを変えない\n",
    "- "
   ]
  },
  {
   "cell_type": "code",
   "execution_count": 5,
   "metadata": {},
   "outputs": [],
   "source": [
    "# で、本当は1拍が何秒になるか計算しなきゃいけないけど、今は決め打ちすることにしてすっ飛ばす\n",
    "# durationを1060で割ってみる\n",
    "unit_ms = 1060\n",
    "df_bokura[\"duration\"] = (df_bokura[\"duration\"]/ unit_ms).round().astype(\"int64\")"
   ]
  },
  {
   "cell_type": "code",
   "execution_count": 6,
   "metadata": {},
   "outputs": [],
   "source": [
    "key_to_half_tone = {\n",
    "#         'Cb': 11, \n",
    "         'C': 0, \n",
    "         'C#': 1, \n",
    "         'Db': 1,\n",
    "         'D' : 2,\n",
    "         'D#': 3,\n",
    "         'Eb': 3,\n",
    "         'E' : 4,\n",
    "#         'E#': 5,\n",
    "#         'Fb': 4,\n",
    "         'F' : 5,\n",
    "         'F#': 6,\n",
    "         'Gb': 6,\n",
    "         'G' : 7,\n",
    "         'G#': 8,\n",
    "         'Ab': 8,\n",
    "         'A' : 9,\n",
    "         'A#': 10,\n",
    "         'Bb': 10,\n",
    "         'B' : 11,\n",
    "#         'B#': 0,\n",
    "        }"
   ]
  },
  {
   "cell_type": "code",
   "execution_count": 7,
   "metadata": {},
   "outputs": [],
   "source": [
    "half_tone_to_key = {\n",
    "#         'Cb': 11, \n",
    "         0: 'C', \n",
    "         1: 'C#', \n",
    "         2: 'D',\n",
    "         3: 'Eb',\n",
    "         4: 'E',\n",
    "         5: 'F',\n",
    "         6: 'F#',\n",
    "         7: 'G',\n",
    "         8: 'G#', #Abでも可\n",
    "         9: 'A',\n",
    "         10: 'Bb',\n",
    "         11: 'B',\n",
    "        }"
   ]
  },
  {
   "cell_type": "code",
   "execution_count": 8,
   "metadata": {},
   "outputs": [],
   "source": [
    "chord_to_half_tone = {\n",
    "    '' : [0, 4, 7],  #メジャー\n",
    "    'm' : [0, 3, 7],\n",
    "    'aug' : [0, 4, 8],\n",
    "    'dim' : [0, 3, 6],\n",
    "    '7' : [0, 4, 7, 10],\n",
    "    'M7' : [0, 4, 7, 11],\n",
    "    'm7' : [0, 3, 7, 10],\n",
    "    '6' : [0, 4, 7, 9],\n",
    "}"
   ]
  },
  {
   "cell_type": "code",
   "execution_count": 9,
   "metadata": {},
   "outputs": [],
   "source": [
    "def chord_to_pitch(chord_name):\n",
    "    # 文字列を受け取ると音の配列を返す\n",
    "    # 0がC, 1がC#, ..., 11がB\n",
    "    # chrod_nameが\"N\"ならばコードが無いので空配列\n",
    "    if chord_name == \"N\":\n",
    "        return np.array([], dtype='int32')\n",
    "    # 一旦分数コードを考慮外にしたいので、 /以降を切り捨てる\n",
    "    chord_name = re.search(\"^[^/]+\", chord_name)\n",
    "    # ^ 先頭、 ^/ スラッシュ以外、 + 一文字以上繰り返し\n",
    "    # searchで返ってくるのはmatchオブジェクトなので、その中身をgroupで取得\n",
    "    chord_name = chord_name.group()\n",
    "    \n",
    "    # キーと和音部分にパース\n",
    "    if len(chord_name) > 1 and (chord_name[1] == \"#\" or chord_name[1] == \"b\"):\n",
    "        key = chord_name[0:2]\n",
    "        chord = chord_name[2:]\n",
    "    else:\n",
    "        key = chord_name[0]\n",
    "        chord = chord_name[1:]\n",
    "    \n",
    "    #まずキーを数字に変換 ハッシュ(辞書)を使う\n",
    "    key_num = key_to_half_tone[key]\n",
    "    \n",
    "    #次にコードを数字に変換 これもハッシュ(辞書)\n",
    "    if chord not in chord_to_half_tone:\n",
    "        print(\"ERROR! This chord is not registered: \" + chord)\n",
    "        return None\n",
    "    \n",
    "    chord_num = chord_to_half_tone[chord]\n",
    "\n",
    "    return key_num + np.array(chord_num)"
   ]
  },
  {
   "cell_type": "code",
   "execution_count": 10,
   "metadata": {},
   "outputs": [
    {
     "data": {
      "text/plain": [
       "array([ 4,  8, 11, 14])"
      ]
     },
     "execution_count": 10,
     "metadata": {},
     "output_type": "execute_result"
    }
   ],
   "source": [
    "chord_to_pitch(\"E7\")"
   ]
  },
  {
   "cell_type": "code",
   "execution_count": 11,
   "metadata": {},
   "outputs": [],
   "source": [
    "# 約62.640秒から約17.200秒間のコードを判別する\n",
    "# 62.640 - 79.840 秒\n",
    "# index 30以上39以下\n",
    "sabi_bokura = df_bokura.iloc[30:40]"
   ]
  },
  {
   "cell_type": "markdown",
   "metadata": {},
   "source": [
    "## 前処理：「ぼくらはみんな意味不明」のコード修正 正しくコード取れていないので"
   ]
  },
  {
   "cell_type": "code",
   "execution_count": 12,
   "metadata": {},
   "outputs": [
    {
     "data": {
      "text/html": [
       "<div>\n",
       "<style scoped>\n",
       "    .dataframe tbody tr th:only-of-type {\n",
       "        vertical-align: middle;\n",
       "    }\n",
       "\n",
       "    .dataframe tbody tr th {\n",
       "        vertical-align: top;\n",
       "    }\n",
       "\n",
       "    .dataframe thead th {\n",
       "        text-align: right;\n",
       "    }\n",
       "</style>\n",
       "<table border=\"1\" class=\"dataframe\">\n",
       "  <thead>\n",
       "    <tr style=\"text-align: right;\">\n",
       "      <th></th>\n",
       "      <th>duration</th>\n",
       "      <th>index</th>\n",
       "      <th>name</th>\n",
       "      <th>start</th>\n",
       "    </tr>\n",
       "  </thead>\n",
       "  <tbody>\n",
       "    <tr>\n",
       "      <th>30</th>\n",
       "      <td>2</td>\n",
       "      <td>30</td>\n",
       "      <td>N</td>\n",
       "      <td>62750</td>\n",
       "    </tr>\n",
       "    <tr>\n",
       "      <th>31</th>\n",
       "      <td>2</td>\n",
       "      <td>31</td>\n",
       "      <td>Abm</td>\n",
       "      <td>64878</td>\n",
       "    </tr>\n",
       "    <tr>\n",
       "      <th>32</th>\n",
       "      <td>2</td>\n",
       "      <td>32</td>\n",
       "      <td>N</td>\n",
       "      <td>67000</td>\n",
       "    </tr>\n",
       "    <tr>\n",
       "      <th>33</th>\n",
       "      <td>2</td>\n",
       "      <td>33</td>\n",
       "      <td>Abm7</td>\n",
       "      <td>69122</td>\n",
       "    </tr>\n",
       "    <tr>\n",
       "      <th>34</th>\n",
       "      <td>1</td>\n",
       "      <td>34</td>\n",
       "      <td>EM7</td>\n",
       "      <td>71250</td>\n",
       "    </tr>\n",
       "    <tr>\n",
       "      <th>35</th>\n",
       "      <td>1</td>\n",
       "      <td>35</td>\n",
       "      <td>B/F#</td>\n",
       "      <td>72306</td>\n",
       "    </tr>\n",
       "    <tr>\n",
       "      <th>36</th>\n",
       "      <td>2</td>\n",
       "      <td>36</td>\n",
       "      <td>Abm</td>\n",
       "      <td>73367</td>\n",
       "    </tr>\n",
       "    <tr>\n",
       "      <th>37</th>\n",
       "      <td>1</td>\n",
       "      <td>37</td>\n",
       "      <td>EM7</td>\n",
       "      <td>75494</td>\n",
       "    </tr>\n",
       "    <tr>\n",
       "      <th>38</th>\n",
       "      <td>1</td>\n",
       "      <td>38</td>\n",
       "      <td>F#</td>\n",
       "      <td>76550</td>\n",
       "    </tr>\n",
       "    <tr>\n",
       "      <th>39</th>\n",
       "      <td>2</td>\n",
       "      <td>39</td>\n",
       "      <td>Abm</td>\n",
       "      <td>77617</td>\n",
       "    </tr>\n",
       "  </tbody>\n",
       "</table>\n",
       "</div>"
      ],
      "text/plain": [
       "    duration  index  name  start\n",
       "30         2     30     N  62750\n",
       "31         2     31   Abm  64878\n",
       "32         2     32     N  67000\n",
       "33         2     33  Abm7  69122\n",
       "34         1     34   EM7  71250\n",
       "35         1     35  B/F#  72306\n",
       "36         2     36   Abm  73367\n",
       "37         1     37   EM7  75494\n",
       "38         1     38    F#  76550\n",
       "39         2     39   Abm  77617"
      ]
     },
     "execution_count": 12,
     "metadata": {},
     "output_type": "execute_result"
    }
   ],
   "source": [
    "sabi_bokura"
   ]
  },
  {
   "cell_type": "code",
   "execution_count": 13,
   "metadata": {},
   "outputs": [
    {
     "name": "stderr",
     "output_type": "stream",
     "text": [
      "c:\\program files\\python37\\lib\\site-packages\\ipykernel_launcher.py:1: SettingWithCopyWarning: \n",
      "A value is trying to be set on a copy of a slice from a DataFrame\n",
      "\n",
      "See the caveats in the documentation: http://pandas.pydata.org/pandas-docs/stable/indexing.html#indexing-view-versus-copy\n",
      "  \"\"\"Entry point for launching an IPython kernel.\n",
      "c:\\program files\\python37\\lib\\site-packages\\ipykernel_launcher.py:2: SettingWithCopyWarning: \n",
      "A value is trying to be set on a copy of a slice from a DataFrame\n",
      "\n",
      "See the caveats in the documentation: http://pandas.pydata.org/pandas-docs/stable/indexing.html#indexing-view-versus-copy\n",
      "  \n",
      "c:\\program files\\python37\\lib\\site-packages\\ipykernel_launcher.py:4: SettingWithCopyWarning: \n",
      "A value is trying to be set on a copy of a slice from a DataFrame\n",
      "\n",
      "See the caveats in the documentation: http://pandas.pydata.org/pandas-docs/stable/indexing.html#indexing-view-versus-copy\n",
      "  after removing the cwd from sys.path.\n",
      "c:\\program files\\python37\\lib\\site-packages\\ipykernel_launcher.py:5: SettingWithCopyWarning: \n",
      "A value is trying to be set on a copy of a slice from a DataFrame\n",
      "\n",
      "See the caveats in the documentation: http://pandas.pydata.org/pandas-docs/stable/indexing.html#indexing-view-versus-copy\n",
      "  \"\"\"\n"
     ]
    }
   ],
   "source": [
    "sabi_bokura.loc[30.1] = [1, 30.1, 'E' , -1]\n",
    "sabi_bokura.loc[30.2] = [1, 30.2, 'F#' , -1]\n",
    "\n",
    "sabi_bokura.loc[32.1] = [1, 32.1, 'E' , -1]\n",
    "sabi_bokura.loc[32.2] = [1, 32.2, 'F#' , -1]"
   ]
  },
  {
   "cell_type": "code",
   "execution_count": 14,
   "metadata": {},
   "outputs": [
    {
     "name": "stderr",
     "output_type": "stream",
     "text": [
      "c:\\program files\\python37\\lib\\site-packages\\ipykernel_launcher.py:1: SettingWithCopyWarning: \n",
      "A value is trying to be set on a copy of a slice from a DataFrame\n",
      "\n",
      "See the caveats in the documentation: http://pandas.pydata.org/pandas-docs/stable/indexing.html#indexing-view-versus-copy\n",
      "  \"\"\"Entry point for launching an IPython kernel.\n",
      "c:\\program files\\python37\\lib\\site-packages\\pandas\\core\\frame.py:3697: SettingWithCopyWarning: \n",
      "A value is trying to be set on a copy of a slice from a DataFrame\n",
      "\n",
      "See the caveats in the documentation: http://pandas.pydata.org/pandas-docs/stable/indexing.html#indexing-view-versus-copy\n",
      "  errors=errors)\n"
     ]
    },
    {
     "data": {
      "text/plain": [
       "30.0    30.0\n",
       "32.0    32.0\n",
       "Name: index, dtype: float64"
      ]
     },
     "execution_count": 14,
     "metadata": {},
     "output_type": "execute_result"
    }
   ],
   "source": [
    "sabi_bokura.sort_values('index',inplace=True)\n",
    "rows_to_drop = sabi_bokura[\"index\"][sabi_bokura[\"name\"] == \"N\"]\n",
    "sabi_bokura.drop(rows_to_drop, inplace=True)\n",
    "type(rows_to_drop)\n",
    "rows_to_drop"
   ]
  },
  {
   "cell_type": "code",
   "execution_count": 15,
   "metadata": {},
   "outputs": [
    {
     "data": {
      "text/html": [
       "<div>\n",
       "<style scoped>\n",
       "    .dataframe tbody tr th:only-of-type {\n",
       "        vertical-align: middle;\n",
       "    }\n",
       "\n",
       "    .dataframe tbody tr th {\n",
       "        vertical-align: top;\n",
       "    }\n",
       "\n",
       "    .dataframe thead th {\n",
       "        text-align: right;\n",
       "    }\n",
       "</style>\n",
       "<table border=\"1\" class=\"dataframe\">\n",
       "  <thead>\n",
       "    <tr style=\"text-align: right;\">\n",
       "      <th></th>\n",
       "      <th>duration</th>\n",
       "      <th>index</th>\n",
       "      <th>name</th>\n",
       "      <th>start</th>\n",
       "    </tr>\n",
       "  </thead>\n",
       "  <tbody>\n",
       "    <tr>\n",
       "      <th>30.1</th>\n",
       "      <td>1</td>\n",
       "      <td>30.1</td>\n",
       "      <td>E</td>\n",
       "      <td>-1</td>\n",
       "    </tr>\n",
       "    <tr>\n",
       "      <th>30.2</th>\n",
       "      <td>1</td>\n",
       "      <td>30.2</td>\n",
       "      <td>F#</td>\n",
       "      <td>-1</td>\n",
       "    </tr>\n",
       "    <tr>\n",
       "      <th>31.0</th>\n",
       "      <td>2</td>\n",
       "      <td>31.0</td>\n",
       "      <td>Abm</td>\n",
       "      <td>64878</td>\n",
       "    </tr>\n",
       "    <tr>\n",
       "      <th>32.1</th>\n",
       "      <td>1</td>\n",
       "      <td>32.1</td>\n",
       "      <td>E</td>\n",
       "      <td>-1</td>\n",
       "    </tr>\n",
       "    <tr>\n",
       "      <th>32.2</th>\n",
       "      <td>1</td>\n",
       "      <td>32.2</td>\n",
       "      <td>F#</td>\n",
       "      <td>-1</td>\n",
       "    </tr>\n",
       "    <tr>\n",
       "      <th>33.0</th>\n",
       "      <td>2</td>\n",
       "      <td>33.0</td>\n",
       "      <td>Abm7</td>\n",
       "      <td>69122</td>\n",
       "    </tr>\n",
       "    <tr>\n",
       "      <th>34.0</th>\n",
       "      <td>1</td>\n",
       "      <td>34.0</td>\n",
       "      <td>EM7</td>\n",
       "      <td>71250</td>\n",
       "    </tr>\n",
       "    <tr>\n",
       "      <th>35.0</th>\n",
       "      <td>1</td>\n",
       "      <td>35.0</td>\n",
       "      <td>B/F#</td>\n",
       "      <td>72306</td>\n",
       "    </tr>\n",
       "    <tr>\n",
       "      <th>36.0</th>\n",
       "      <td>2</td>\n",
       "      <td>36.0</td>\n",
       "      <td>Abm</td>\n",
       "      <td>73367</td>\n",
       "    </tr>\n",
       "    <tr>\n",
       "      <th>37.0</th>\n",
       "      <td>1</td>\n",
       "      <td>37.0</td>\n",
       "      <td>EM7</td>\n",
       "      <td>75494</td>\n",
       "    </tr>\n",
       "    <tr>\n",
       "      <th>38.0</th>\n",
       "      <td>1</td>\n",
       "      <td>38.0</td>\n",
       "      <td>F#</td>\n",
       "      <td>76550</td>\n",
       "    </tr>\n",
       "    <tr>\n",
       "      <th>39.0</th>\n",
       "      <td>2</td>\n",
       "      <td>39.0</td>\n",
       "      <td>Abm</td>\n",
       "      <td>77617</td>\n",
       "    </tr>\n",
       "  </tbody>\n",
       "</table>\n",
       "</div>"
      ],
      "text/plain": [
       "      duration  index  name  start\n",
       "30.1         1   30.1     E     -1\n",
       "30.2         1   30.2    F#     -1\n",
       "31.0         2   31.0   Abm  64878\n",
       "32.1         1   32.1     E     -1\n",
       "32.2         1   32.2    F#     -1\n",
       "33.0         2   33.0  Abm7  69122\n",
       "34.0         1   34.0   EM7  71250\n",
       "35.0         1   35.0  B/F#  72306\n",
       "36.0         2   36.0   Abm  73367\n",
       "37.0         1   37.0   EM7  75494\n",
       "38.0         1   38.0    F#  76550\n",
       "39.0         2   39.0   Abm  77617"
      ]
     },
     "execution_count": 15,
     "metadata": {},
     "output_type": "execute_result"
    }
   ],
   "source": [
    "sabi_bokura"
   ]
  },
  {
   "cell_type": "code",
   "execution_count": 16,
   "metadata": {},
   "outputs": [
    {
     "name": "stderr",
     "output_type": "stream",
     "text": [
      "c:\\program files\\python37\\lib\\site-packages\\ipykernel_launcher.py:1: SettingWithCopyWarning: \n",
      "A value is trying to be set on a copy of a slice from a DataFrame.\n",
      "Try using .loc[row_indexer,col_indexer] = value instead\n",
      "\n",
      "See the caveats in the documentation: http://pandas.pydata.org/pandas-docs/stable/indexing.html#indexing-view-versus-copy\n",
      "  \"\"\"Entry point for launching an IPython kernel.\n"
     ]
    }
   ],
   "source": [
    "sabi_bokura[\"chord_pitch\"] = sabi_bokura[\"name\"].map(chord_to_pitch)"
   ]
  },
  {
   "cell_type": "code",
   "execution_count": 17,
   "metadata": {},
   "outputs": [
    {
     "data": {
      "text/html": [
       "<div>\n",
       "<style scoped>\n",
       "    .dataframe tbody tr th:only-of-type {\n",
       "        vertical-align: middle;\n",
       "    }\n",
       "\n",
       "    .dataframe tbody tr th {\n",
       "        vertical-align: top;\n",
       "    }\n",
       "\n",
       "    .dataframe thead th {\n",
       "        text-align: right;\n",
       "    }\n",
       "</style>\n",
       "<table border=\"1\" class=\"dataframe\">\n",
       "  <thead>\n",
       "    <tr style=\"text-align: right;\">\n",
       "      <th></th>\n",
       "      <th>duration</th>\n",
       "      <th>index</th>\n",
       "      <th>name</th>\n",
       "      <th>start</th>\n",
       "      <th>chord_pitch</th>\n",
       "    </tr>\n",
       "  </thead>\n",
       "  <tbody>\n",
       "    <tr>\n",
       "      <th>30.1</th>\n",
       "      <td>1</td>\n",
       "      <td>30.1</td>\n",
       "      <td>E</td>\n",
       "      <td>-1</td>\n",
       "      <td>[4, 8, 11]</td>\n",
       "    </tr>\n",
       "    <tr>\n",
       "      <th>30.2</th>\n",
       "      <td>1</td>\n",
       "      <td>30.2</td>\n",
       "      <td>F#</td>\n",
       "      <td>-1</td>\n",
       "      <td>[6, 10, 13]</td>\n",
       "    </tr>\n",
       "    <tr>\n",
       "      <th>31.0</th>\n",
       "      <td>2</td>\n",
       "      <td>31.0</td>\n",
       "      <td>Abm</td>\n",
       "      <td>64878</td>\n",
       "      <td>[8, 11, 15]</td>\n",
       "    </tr>\n",
       "    <tr>\n",
       "      <th>32.1</th>\n",
       "      <td>1</td>\n",
       "      <td>32.1</td>\n",
       "      <td>E</td>\n",
       "      <td>-1</td>\n",
       "      <td>[4, 8, 11]</td>\n",
       "    </tr>\n",
       "    <tr>\n",
       "      <th>32.2</th>\n",
       "      <td>1</td>\n",
       "      <td>32.2</td>\n",
       "      <td>F#</td>\n",
       "      <td>-1</td>\n",
       "      <td>[6, 10, 13]</td>\n",
       "    </tr>\n",
       "    <tr>\n",
       "      <th>33.0</th>\n",
       "      <td>2</td>\n",
       "      <td>33.0</td>\n",
       "      <td>Abm7</td>\n",
       "      <td>69122</td>\n",
       "      <td>[8, 11, 15, 18]</td>\n",
       "    </tr>\n",
       "    <tr>\n",
       "      <th>34.0</th>\n",
       "      <td>1</td>\n",
       "      <td>34.0</td>\n",
       "      <td>EM7</td>\n",
       "      <td>71250</td>\n",
       "      <td>[4, 8, 11, 15]</td>\n",
       "    </tr>\n",
       "    <tr>\n",
       "      <th>35.0</th>\n",
       "      <td>1</td>\n",
       "      <td>35.0</td>\n",
       "      <td>B/F#</td>\n",
       "      <td>72306</td>\n",
       "      <td>[11, 15, 18]</td>\n",
       "    </tr>\n",
       "    <tr>\n",
       "      <th>36.0</th>\n",
       "      <td>2</td>\n",
       "      <td>36.0</td>\n",
       "      <td>Abm</td>\n",
       "      <td>73367</td>\n",
       "      <td>[8, 11, 15]</td>\n",
       "    </tr>\n",
       "    <tr>\n",
       "      <th>37.0</th>\n",
       "      <td>1</td>\n",
       "      <td>37.0</td>\n",
       "      <td>EM7</td>\n",
       "      <td>75494</td>\n",
       "      <td>[4, 8, 11, 15]</td>\n",
       "    </tr>\n",
       "    <tr>\n",
       "      <th>38.0</th>\n",
       "      <td>1</td>\n",
       "      <td>38.0</td>\n",
       "      <td>F#</td>\n",
       "      <td>76550</td>\n",
       "      <td>[6, 10, 13]</td>\n",
       "    </tr>\n",
       "    <tr>\n",
       "      <th>39.0</th>\n",
       "      <td>2</td>\n",
       "      <td>39.0</td>\n",
       "      <td>Abm</td>\n",
       "      <td>77617</td>\n",
       "      <td>[8, 11, 15]</td>\n",
       "    </tr>\n",
       "  </tbody>\n",
       "</table>\n",
       "</div>"
      ],
      "text/plain": [
       "      duration  index  name  start      chord_pitch\n",
       "30.1         1   30.1     E     -1       [4, 8, 11]\n",
       "30.2         1   30.2    F#     -1      [6, 10, 13]\n",
       "31.0         2   31.0   Abm  64878      [8, 11, 15]\n",
       "32.1         1   32.1     E     -1       [4, 8, 11]\n",
       "32.2         1   32.2    F#     -1      [6, 10, 13]\n",
       "33.0         2   33.0  Abm7  69122  [8, 11, 15, 18]\n",
       "34.0         1   34.0   EM7  71250   [4, 8, 11, 15]\n",
       "35.0         1   35.0  B/F#  72306     [11, 15, 18]\n",
       "36.0         2   36.0   Abm  73367      [8, 11, 15]\n",
       "37.0         1   37.0   EM7  75494   [4, 8, 11, 15]\n",
       "38.0         1   38.0    F#  76550      [6, 10, 13]\n",
       "39.0         2   39.0   Abm  77617      [8, 11, 15]"
      ]
     },
     "execution_count": 17,
     "metadata": {},
     "output_type": "execute_result"
    }
   ],
   "source": [
    "sabi_bokura"
   ]
  },
  {
   "cell_type": "markdown",
   "metadata": {},
   "source": [
    "# youtubeとニコニコ動画で解析結果が大きく異なる問題について\n",
    "妄想感傷代償連盟  \n",
    "youtube https://www.youtube.com/watch?v=8pGRdRhjX3o  \n",
    "nico https://www.nicovideo.jp/watch/sm30067009  \n",
    "\n",
    "再生画面  \n",
    "https://songle.jp/songs/www.youtube.com%2Fwatch%3Fv=8pGRdRhjX3o  \n",
    "https://songle.jp/songs/www.nicovideo.jp%2Fwatch%2Fsm30067009  \n",
    "youtubeの方にはほとんどコードが入っていない\n",
    "\n",
    "REST APIを叩いた結果は違うのか?→全然違う。 たぶん再生画面と一致している。\n",
    "\n",
    "http://widget.songle.jp/api/v1/song/chord.json?url=www.youtube.com/watch?v=8pGRdRhjX3o  \n",
    "→62個のコード\n",
    "\n",
    "http://widget.songle.jp/api/v1/song/chord.json?url=www.nicovideo.jp/watch/sm30067009  \n",
    "→150個のコード\n",
    "\n",
    "原因は不明……  \n",
    "明らかにyoutube版はコードの内容がおかしいので、ニコニコ動画の解析結果を元にして進める\n"
   ]
  },
  {
   "cell_type": "code",
   "execution_count": 18,
   "metadata": {},
   "outputs": [],
   "source": [
    "song_url = \"www.nicovideo.jp/watch/sm30067009\"\n",
    "# 妄想感傷代償連盟 DECO*27\n",
    "df_mousou = get_chord_analysis(song_url)"
   ]
  },
  {
   "cell_type": "code",
   "execution_count": 19,
   "metadata": {},
   "outputs": [],
   "source": [
    "# で、本当は1拍が何秒になるか計算しなきゃいけないけど、今は決め打ちすることにしてすっ飛ばす\n",
    "# durationを1090で割ってみる\n",
    "unit_ms_mousou = 1090 \n",
    "df_mousou [\"duration\"] = (df_mousou [\"duration\"]/ unit_ms_mousou).round().astype(\"int64\")"
   ]
  },
  {
   "cell_type": "code",
   "execution_count": 20,
   "metadata": {},
   "outputs": [],
   "source": [
    "# 約61.120秒から約17.440秒間のコードを判別する\n",
    "# 61.120 - 78.560 秒\n",
    "# index 17以上30以下\n",
    "sabi_mousou = df_mousou.iloc[17:31]"
   ]
  },
  {
   "cell_type": "code",
   "execution_count": 21,
   "metadata": {},
   "outputs": [
    {
     "name": "stderr",
     "output_type": "stream",
     "text": [
      "c:\\program files\\python37\\lib\\site-packages\\ipykernel_launcher.py:1: SettingWithCopyWarning: \n",
      "A value is trying to be set on a copy of a slice from a DataFrame.\n",
      "Try using .loc[row_indexer,col_indexer] = value instead\n",
      "\n",
      "See the caveats in the documentation: http://pandas.pydata.org/pandas-docs/stable/indexing.html#indexing-view-versus-copy\n",
      "  \"\"\"Entry point for launching an IPython kernel.\n"
     ]
    }
   ],
   "source": [
    "sabi_mousou[\"chord_pitch\"] = sabi_mousou[\"name\"].map(chord_to_pitch)"
   ]
  },
  {
   "cell_type": "code",
   "execution_count": 22,
   "metadata": {},
   "outputs": [
    {
     "data": {
      "text/html": [
       "<div>\n",
       "<style scoped>\n",
       "    .dataframe tbody tr th:only-of-type {\n",
       "        vertical-align: middle;\n",
       "    }\n",
       "\n",
       "    .dataframe tbody tr th {\n",
       "        vertical-align: top;\n",
       "    }\n",
       "\n",
       "    .dataframe thead th {\n",
       "        text-align: right;\n",
       "    }\n",
       "</style>\n",
       "<table border=\"1\" class=\"dataframe\">\n",
       "  <thead>\n",
       "    <tr style=\"text-align: right;\">\n",
       "      <th></th>\n",
       "      <th>duration</th>\n",
       "      <th>index</th>\n",
       "      <th>name</th>\n",
       "      <th>start</th>\n",
       "      <th>chord_pitch</th>\n",
       "    </tr>\n",
       "  </thead>\n",
       "  <tbody>\n",
       "    <tr>\n",
       "      <th>17</th>\n",
       "      <td>1</td>\n",
       "      <td>17</td>\n",
       "      <td>C#M7</td>\n",
       "      <td>61150</td>\n",
       "      <td>[1, 5, 8, 12]</td>\n",
       "    </tr>\n",
       "    <tr>\n",
       "      <th>18</th>\n",
       "      <td>1</td>\n",
       "      <td>18</td>\n",
       "      <td>C7</td>\n",
       "      <td>62239</td>\n",
       "      <td>[0, 4, 7, 10]</td>\n",
       "    </tr>\n",
       "    <tr>\n",
       "      <th>19</th>\n",
       "      <td>1</td>\n",
       "      <td>19</td>\n",
       "      <td>Fm7</td>\n",
       "      <td>63328</td>\n",
       "      <td>[5, 8, 12, 15]</td>\n",
       "    </tr>\n",
       "    <tr>\n",
       "      <th>20</th>\n",
       "      <td>1</td>\n",
       "      <td>20</td>\n",
       "      <td>Cm7</td>\n",
       "      <td>64417</td>\n",
       "      <td>[0, 3, 7, 10]</td>\n",
       "    </tr>\n",
       "    <tr>\n",
       "      <th>21</th>\n",
       "      <td>1</td>\n",
       "      <td>21</td>\n",
       "      <td>C#M7</td>\n",
       "      <td>65510</td>\n",
       "      <td>[1, 5, 8, 12]</td>\n",
       "    </tr>\n",
       "    <tr>\n",
       "      <th>22</th>\n",
       "      <td>1</td>\n",
       "      <td>22</td>\n",
       "      <td>C7</td>\n",
       "      <td>66600</td>\n",
       "      <td>[0, 4, 7, 10]</td>\n",
       "    </tr>\n",
       "    <tr>\n",
       "      <th>23</th>\n",
       "      <td>2</td>\n",
       "      <td>23</td>\n",
       "      <td>F</td>\n",
       "      <td>67689</td>\n",
       "      <td>[5, 9, 12]</td>\n",
       "    </tr>\n",
       "    <tr>\n",
       "      <th>24</th>\n",
       "      <td>1</td>\n",
       "      <td>24</td>\n",
       "      <td>C#M7</td>\n",
       "      <td>69872</td>\n",
       "      <td>[1, 5, 8, 12]</td>\n",
       "    </tr>\n",
       "    <tr>\n",
       "      <th>25</th>\n",
       "      <td>1</td>\n",
       "      <td>25</td>\n",
       "      <td>C7</td>\n",
       "      <td>70967</td>\n",
       "      <td>[0, 4, 7, 10]</td>\n",
       "    </tr>\n",
       "    <tr>\n",
       "      <th>26</th>\n",
       "      <td>1</td>\n",
       "      <td>26</td>\n",
       "      <td>Fm</td>\n",
       "      <td>72056</td>\n",
       "      <td>[5, 8, 12]</td>\n",
       "    </tr>\n",
       "    <tr>\n",
       "      <th>27</th>\n",
       "      <td>1</td>\n",
       "      <td>27</td>\n",
       "      <td>Ab/C</td>\n",
       "      <td>73150</td>\n",
       "      <td>[8, 12, 15]</td>\n",
       "    </tr>\n",
       "    <tr>\n",
       "      <th>28</th>\n",
       "      <td>1</td>\n",
       "      <td>28</td>\n",
       "      <td>C#/G#</td>\n",
       "      <td>74239</td>\n",
       "      <td>[1, 5, 8]</td>\n",
       "    </tr>\n",
       "    <tr>\n",
       "      <th>29</th>\n",
       "      <td>1</td>\n",
       "      <td>29</td>\n",
       "      <td>C7</td>\n",
       "      <td>75328</td>\n",
       "      <td>[0, 4, 7, 10]</td>\n",
       "    </tr>\n",
       "    <tr>\n",
       "      <th>30</th>\n",
       "      <td>2</td>\n",
       "      <td>30</td>\n",
       "      <td>F</td>\n",
       "      <td>76417</td>\n",
       "      <td>[5, 9, 12]</td>\n",
       "    </tr>\n",
       "  </tbody>\n",
       "</table>\n",
       "</div>"
      ],
      "text/plain": [
       "    duration  index   name  start     chord_pitch\n",
       "17         1     17   C#M7  61150   [1, 5, 8, 12]\n",
       "18         1     18     C7  62239   [0, 4, 7, 10]\n",
       "19         1     19    Fm7  63328  [5, 8, 12, 15]\n",
       "20         1     20    Cm7  64417   [0, 3, 7, 10]\n",
       "21         1     21   C#M7  65510   [1, 5, 8, 12]\n",
       "22         1     22     C7  66600   [0, 4, 7, 10]\n",
       "23         2     23      F  67689      [5, 9, 12]\n",
       "24         1     24   C#M7  69872   [1, 5, 8, 12]\n",
       "25         1     25     C7  70967   [0, 4, 7, 10]\n",
       "26         1     26     Fm  72056      [5, 8, 12]\n",
       "27         1     27   Ab/C  73150     [8, 12, 15]\n",
       "28         1     28  C#/G#  74239       [1, 5, 8]\n",
       "29         1     29     C7  75328   [0, 4, 7, 10]\n",
       "30         2     30      F  76417      [5, 9, 12]"
      ]
     },
     "execution_count": 22,
     "metadata": {},
     "output_type": "execute_result"
    }
   ],
   "source": [
    "sabi_mousou"
   ]
  },
  {
   "cell_type": "markdown",
   "metadata": {},
   "source": [
    "## 転調のシミュレーション"
   ]
  },
  {
   "cell_type": "code",
   "execution_count": 23,
   "metadata": {},
   "outputs": [
    {
     "data": {
      "text/plain": [
       "30.1         [3, 7, 10]\n",
       "30.2         [5, 9, 12]\n",
       "31.0        [7, 10, 14]\n",
       "32.1         [3, 7, 10]\n",
       "32.2         [5, 9, 12]\n",
       "33.0    [7, 10, 14, 17]\n",
       "34.0     [3, 7, 10, 14]\n",
       "35.0       [10, 14, 17]\n",
       "36.0        [7, 10, 14]\n",
       "37.0     [3, 7, 10, 14]\n",
       "38.0         [5, 9, 12]\n",
       "39.0        [7, 10, 14]\n",
       "Name: chord_pitch, dtype: object"
      ]
     },
     "execution_count": 23,
     "metadata": {},
     "output_type": "execute_result"
    }
   ],
   "source": [
    "# 「ぼくらはみんな意味不明」を移調したときのコード ≒ 「妄想感傷代償連盟」を移調したときのコード\n",
    "# 「ぼくらはみんな意味不明」 最初の「よ」 で原曲G#→マッシュアップG なので半音1つ下に移調\n",
    "# 「妄想感傷代償連盟」 歌詞最初の伴奏部のうち高い方の音 F→G なので半音2つ上に移調\n",
    "\n",
    "sabi_bokura[\"chord_pitch\"] - 1"
   ]
  },
  {
   "cell_type": "code",
   "execution_count": 24,
   "metadata": {
    "scrolled": true
   },
   "outputs": [
    {
     "data": {
      "text/plain": [
       "17     [3, 7, 10, 14]\n",
       "18      [2, 6, 9, 12]\n",
       "19    [7, 10, 14, 17]\n",
       "20      [2, 5, 9, 12]\n",
       "21     [3, 7, 10, 14]\n",
       "22      [2, 6, 9, 12]\n",
       "23        [7, 11, 14]\n",
       "24     [3, 7, 10, 14]\n",
       "25      [2, 6, 9, 12]\n",
       "26        [7, 10, 14]\n",
       "27       [10, 14, 17]\n",
       "28         [3, 7, 10]\n",
       "29      [2, 6, 9, 12]\n",
       "30        [7, 11, 14]\n",
       "Name: chord_pitch, dtype: object"
      ]
     },
     "execution_count": 24,
     "metadata": {},
     "output_type": "execute_result"
    }
   ],
   "source": [
    "sabi_mousou[\"chord_pitch\"] + 2"
   ]
  },
  {
   "cell_type": "markdown",
   "metadata": {},
   "source": [
    "まぁ、何となく似ているのは分かるけど……  \n",
    "どこがどのくらい一致してるのか分からないのが惜しい\n",
    "音の長さの情報が消えちゃってるから、そこも入れて検討しなきゃ\n",
    "\n",
    "- ビジュアルで示す クロマグラフっぽく。どこに音があるかを線などで示す  \n",
    "- 音楽コードに直す →できた。 \n",
    "- 1拍ごとに分解して、曲/ 曲/ 共通音の形で書く?\n",
    "\n"
   ]
  },
  {
   "cell_type": "markdown",
   "metadata": {},
   "source": [
    "## 移調時の音楽コードを求める"
   ]
  },
  {
   "cell_type": "code",
   "execution_count": 25,
   "metadata": {},
   "outputs": [],
   "source": [
    "def transpose(chord_name, pitch):\n",
    "    # 文字列と移調幅を受け取り、文字列を返す\n",
    "    # chrod_nameが\"N\"ならばコードが無いのでNを返す\n",
    "    if chord_name == \"N\":\n",
    "        return \"N\"\n",
    "    # 一旦分数コードを考慮外にしたいので、 /以降を切り捨てる\n",
    "    chord_name = re.search(\"^[^/]+\", chord_name)\n",
    "    # ^ 先頭、 ^/ スラッシュ以外、 + 一文字以上繰り返し\n",
    "    # searchで返ってくるのはmatchオブジェクトなので、その中身をgroupで取得\n",
    "    chord_name = chord_name.group()\n",
    "    \n",
    "    # キーと和音部分にパース and句の左側は\"E\"とかでchord_name[1]がなくてエラーになるのを防ぐため\n",
    "    if len(chord_name) > 1 and (chord_name[1] == \"#\" or chord_name[1] == \"b\"):\n",
    "        key = chord_name[0:2]\n",
    "        chord = chord_name[2:]\n",
    "    else:\n",
    "        key = chord_name[0]\n",
    "        chord = chord_name[1:]\n",
    "    \n",
    "    #まずキーを数字に変換 ハッシュ(辞書)を使う\n",
    "    key_num = key_to_half_tone[key]\n",
    "    \n",
    "    #次にキーを移調する \n",
    "    transposed_key_num = (key_num + pitch) % HALF_TONE_IN_OCTAVE\n",
    "     \n",
    "    #数字からキーに戻す 黒鍵は#を使うかbを使うかがあるが、今は個人的な好みで決める\n",
    "    transposed_key = half_tone_to_key[transposed_key_num]\n",
    "    \n",
    "    return transposed_key + chord"
   ]
  },
  {
   "cell_type": "code",
   "execution_count": 26,
   "metadata": {},
   "outputs": [
    {
     "name": "stderr",
     "output_type": "stream",
     "text": [
      "c:\\program files\\python37\\lib\\site-packages\\ipykernel_launcher.py:1: SettingWithCopyWarning: \n",
      "A value is trying to be set on a copy of a slice from a DataFrame.\n",
      "Try using .loc[row_indexer,col_indexer] = value instead\n",
      "\n",
      "See the caveats in the documentation: http://pandas.pydata.org/pandas-docs/stable/indexing.html#indexing-view-versus-copy\n",
      "  \"\"\"Entry point for launching an IPython kernel.\n"
     ]
    }
   ],
   "source": [
    "sabi_mousou[\"name_trans\"] = sabi_mousou[\"name\"].apply(transpose, args=(2,))\n",
    "# argsに入れられるのはtupleだけなので、(1,)として要素一個のtupleを作ること (1)だとただのintになる\n",
    "# map関数を通じて関数に引数を渡せないので、ここはmapは使えない\n",
    "# apply関数のヘルプ https://pandas.pydata.org/pandas-docs/stable/generated/pandas.Series.apply.html"
   ]
  },
  {
   "cell_type": "code",
   "execution_count": 27,
   "metadata": {},
   "outputs": [
    {
     "name": "stderr",
     "output_type": "stream",
     "text": [
      "c:\\program files\\python37\\lib\\site-packages\\ipykernel_launcher.py:1: SettingWithCopyWarning: \n",
      "A value is trying to be set on a copy of a slice from a DataFrame.\n",
      "Try using .loc[row_indexer,col_indexer] = value instead\n",
      "\n",
      "See the caveats in the documentation: http://pandas.pydata.org/pandas-docs/stable/indexing.html#indexing-view-versus-copy\n",
      "  \"\"\"Entry point for launching an IPython kernel.\n"
     ]
    }
   ],
   "source": [
    "sabi_bokura[\"name_trans\"] = sabi_bokura[\"name\"].apply(transpose, args=(-1,))"
   ]
  },
  {
   "cell_type": "code",
   "execution_count": 28,
   "metadata": {},
   "outputs": [
    {
     "data": {
      "text/plain": [
       "(    duration  index   name  start     chord_pitch name_trans\n",
       " 17         1     17   C#M7  61150   [1, 5, 8, 12]       EbM7\n",
       " 18         1     18     C7  62239   [0, 4, 7, 10]         D7\n",
       " 19         1     19    Fm7  63328  [5, 8, 12, 15]        Gm7\n",
       " 20         1     20    Cm7  64417   [0, 3, 7, 10]        Dm7\n",
       " 21         1     21   C#M7  65510   [1, 5, 8, 12]       EbM7\n",
       " 22         1     22     C7  66600   [0, 4, 7, 10]         D7\n",
       " 23         2     23      F  67689      [5, 9, 12]          G\n",
       " 24         1     24   C#M7  69872   [1, 5, 8, 12]       EbM7\n",
       " 25         1     25     C7  70967   [0, 4, 7, 10]         D7\n",
       " 26         1     26     Fm  72056      [5, 8, 12]         Gm\n",
       " 27         1     27   Ab/C  73150     [8, 12, 15]         Bb\n",
       " 28         1     28  C#/G#  74239       [1, 5, 8]         Eb\n",
       " 29         1     29     C7  75328   [0, 4, 7, 10]         D7\n",
       " 30         2     30      F  76417      [5, 9, 12]          G,\n",
       "       duration  index  name  start      chord_pitch name_trans\n",
       " 30.1         1   30.1     E     -1       [4, 8, 11]         Eb\n",
       " 30.2         1   30.2    F#     -1      [6, 10, 13]          F\n",
       " 31.0         2   31.0   Abm  64878      [8, 11, 15]         Gm\n",
       " 32.1         1   32.1     E     -1       [4, 8, 11]         Eb\n",
       " 32.2         1   32.2    F#     -1      [6, 10, 13]          F\n",
       " 33.0         2   33.0  Abm7  69122  [8, 11, 15, 18]        Gm7\n",
       " 34.0         1   34.0   EM7  71250   [4, 8, 11, 15]       EbM7\n",
       " 35.0         1   35.0  B/F#  72306     [11, 15, 18]         Bb\n",
       " 36.0         2   36.0   Abm  73367      [8, 11, 15]         Gm\n",
       " 37.0         1   37.0   EM7  75494   [4, 8, 11, 15]       EbM7\n",
       " 38.0         1   38.0    F#  76550      [6, 10, 13]          F\n",
       " 39.0         2   39.0   Abm  77617      [8, 11, 15]         Gm)"
      ]
     },
     "execution_count": 28,
     "metadata": {},
     "output_type": "execute_result"
    }
   ],
   "source": [
    "sabi_mousou, sabi_bokura"
   ]
  },
  {
   "cell_type": "code",
   "execution_count": null,
   "metadata": {},
   "outputs": [],
   "source": []
  },
  {
   "cell_type": "code",
   "execution_count": 29,
   "metadata": {},
   "outputs": [],
   "source": [
    "def transpose_pitch(half_tone, pitch):\n",
    "    # 配列と移調幅を受け取り、配列を返す\n",
    "    # 空配列ならばコードが無いので、空配列を返す\n",
    "    #if half_tone == []:\n",
    "    #    return []\n",
    "    return np.sort((half_tone + pitch) % HALF_TONE_IN_OCTAVE)"
   ]
  },
  {
   "cell_type": "code",
   "execution_count": 30,
   "metadata": {},
   "outputs": [
    {
     "data": {
      "text/plain": [
       "array([ 1,  6, 10], dtype=int32)"
      ]
     },
     "execution_count": 30,
     "metadata": {},
     "output_type": "execute_result"
    }
   ],
   "source": [
    "t1 = np.array([0,4,7])\n",
    "transpose_pitch(t1, 6)\n"
   ]
  },
  {
   "cell_type": "code",
   "execution_count": 31,
   "metadata": {},
   "outputs": [
    {
     "name": "stderr",
     "output_type": "stream",
     "text": [
      "c:\\program files\\python37\\lib\\site-packages\\ipykernel_launcher.py:1: SettingWithCopyWarning: \n",
      "A value is trying to be set on a copy of a slice from a DataFrame.\n",
      "Try using .loc[row_indexer,col_indexer] = value instead\n",
      "\n",
      "See the caveats in the documentation: http://pandas.pydata.org/pandas-docs/stable/indexing.html#indexing-view-versus-copy\n",
      "  \"\"\"Entry point for launching an IPython kernel.\n",
      "c:\\program files\\python37\\lib\\site-packages\\ipykernel_launcher.py:2: SettingWithCopyWarning: \n",
      "A value is trying to be set on a copy of a slice from a DataFrame.\n",
      "Try using .loc[row_indexer,col_indexer] = value instead\n",
      "\n",
      "See the caveats in the documentation: http://pandas.pydata.org/pandas-docs/stable/indexing.html#indexing-view-versus-copy\n",
      "  \n"
     ]
    }
   ],
   "source": [
    "sabi_mousou[\"pitch_trans\"] = sabi_mousou[\"chord_pitch\"].apply(transpose_pitch, args=(2,))\n",
    "sabi_bokura[\"pitch_trans\"] = sabi_bokura[\"chord_pitch\"].apply(transpose_pitch, args=(-1,))\n"
   ]
  },
  {
   "cell_type": "code",
   "execution_count": 32,
   "metadata": {},
   "outputs": [
    {
     "name": "stderr",
     "output_type": "stream",
     "text": [
      "c:\\program files\\python37\\lib\\site-packages\\pandas\\core\\frame.py:3697: SettingWithCopyWarning: \n",
      "A value is trying to be set on a copy of a slice from a DataFrame\n",
      "\n",
      "See the caveats in the documentation: http://pandas.pydata.org/pandas-docs/stable/indexing.html#indexing-view-versus-copy\n",
      "  errors=errors)\n"
     ]
    }
   ],
   "source": [
    "# 最も左の列(df.index)とindex列(df[\"index\"])が紛らわしいので、後者を削除します\n",
    "sabi_mousou.drop(columns=['index'], inplace=True)\n",
    "sabi_bokura.drop(columns=['index'], inplace=True)"
   ]
  },
  {
   "cell_type": "code",
   "execution_count": 33,
   "metadata": {},
   "outputs": [
    {
     "data": {
      "text/plain": [
       "(    duration   name  start     chord_pitch name_trans    pitch_trans\n",
       " 17         1   C#M7  61150   [1, 5, 8, 12]       EbM7  [2, 3, 7, 10]\n",
       " 18         1     C7  62239   [0, 4, 7, 10]         D7   [0, 2, 6, 9]\n",
       " 19         1    Fm7  63328  [5, 8, 12, 15]        Gm7  [2, 5, 7, 10]\n",
       " 20         1    Cm7  64417   [0, 3, 7, 10]        Dm7   [0, 2, 5, 9]\n",
       " 21         1   C#M7  65510   [1, 5, 8, 12]       EbM7  [2, 3, 7, 10]\n",
       " 22         1     C7  66600   [0, 4, 7, 10]         D7   [0, 2, 6, 9]\n",
       " 23         2      F  67689      [5, 9, 12]          G     [2, 7, 11]\n",
       " 24         1   C#M7  69872   [1, 5, 8, 12]       EbM7  [2, 3, 7, 10]\n",
       " 25         1     C7  70967   [0, 4, 7, 10]         D7   [0, 2, 6, 9]\n",
       " 26         1     Fm  72056      [5, 8, 12]         Gm     [2, 7, 10]\n",
       " 27         1   Ab/C  73150     [8, 12, 15]         Bb     [2, 5, 10]\n",
       " 28         1  C#/G#  74239       [1, 5, 8]         Eb     [3, 7, 10]\n",
       " 29         1     C7  75328   [0, 4, 7, 10]         D7   [0, 2, 6, 9]\n",
       " 30         2      F  76417      [5, 9, 12]          G     [2, 7, 11],\n",
       "       duration  name  start      chord_pitch name_trans    pitch_trans\n",
       " 30.1         1     E     -1       [4, 8, 11]         Eb     [3, 7, 10]\n",
       " 30.2         1    F#     -1      [6, 10, 13]          F      [0, 5, 9]\n",
       " 31.0         2   Abm  64878      [8, 11, 15]         Gm     [2, 7, 10]\n",
       " 32.1         1     E     -1       [4, 8, 11]         Eb     [3, 7, 10]\n",
       " 32.2         1    F#     -1      [6, 10, 13]          F      [0, 5, 9]\n",
       " 33.0         2  Abm7  69122  [8, 11, 15, 18]        Gm7  [2, 5, 7, 10]\n",
       " 34.0         1   EM7  71250   [4, 8, 11, 15]       EbM7  [2, 3, 7, 10]\n",
       " 35.0         1  B/F#  72306     [11, 15, 18]         Bb     [2, 5, 10]\n",
       " 36.0         2   Abm  73367      [8, 11, 15]         Gm     [2, 7, 10]\n",
       " 37.0         1   EM7  75494   [4, 8, 11, 15]       EbM7  [2, 3, 7, 10]\n",
       " 38.0         1    F#  76550      [6, 10, 13]          F      [0, 5, 9]\n",
       " 39.0         2   Abm  77617      [8, 11, 15]         Gm     [2, 7, 10])"
      ]
     },
     "execution_count": 33,
     "metadata": {},
     "output_type": "execute_result"
    }
   ],
   "source": [
    "sabi_mousou, sabi_bokura"
   ]
  },
  {
   "cell_type": "code",
   "execution_count": 34,
   "metadata": {},
   "outputs": [],
   "source": [
    "def plot_chord_chromagram(chords, plot_format, offset, fig, axes):\n",
    "    beat = 0\n",
    "    for chord in chords:\n",
    "        for i in chord:\n",
    "            ax.plot([beat, beat+1], [i+offset, i+offset], plot_format, linewidth=2)\n",
    "            # 音程の正則化（12で割った剰余）は必要ある？ない？\n",
    "        beat += 1\n",
    "\n",
    "    # x軸描画範囲は特に希望が無いけど、axis関数を使うときにはx軸y軸のどっちも指定しないといけないので区間ギリギリを指定\n",
    "    # y軸描画範囲を0～11 + 余白にする（余白がないと0や11の位置の線が見づらい）\n",
    "    VERTICAL_MERGIN = 0.5\n",
    "    ax.axis([0, beat, -VERTICAL_MERGIN, HALF_TONE_IN_OCTAVE-1+VERTICAL_MERGIN])\n",
    "\n",
    "    # 位置に応じてy軸に固定的なラベルを付与する。このためy軸major tickの間隔を1にする\n",
    "    axes.yaxis.set_major_locator(plt.MultipleLocator(1))\n",
    "    axes.yaxis.set_major_formatter(plt.FixedFormatter([\"\", \"C\", \"C#\", \"D\", \"D#\", \"E\", \"F\", \"F#\", \"G\", \"G#\", \"A\", \"A#\", \"B\"]))\n",
    "\n",
    "    axes.set_xlabel(\"time\")\n",
    "    axes.set_ylabel(\"pitch class\")\n",
    "\n",
    "#    plt.legend(bbox_to_anchor=(1.05, 1), loc='upper left', borderaxespad=0, fontsize=18)"
   ]
  },
  {
   "cell_type": "code",
   "execution_count": 35,
   "metadata": {},
   "outputs": [
    {
     "data": {
      "image/png": "[encoded data removed]",
      "text/plain": [
       "<Figure size 432x288 with 1 Axes>"
      ]
     },
     "metadata": {
      "needs_background": "light"
     },
     "output_type": "display_data"
    }
   ],
   "source": [
    "fig = plt.figure()\n",
    "ax = plt.axes()\n",
    "plot_chord_chromagram(sabi_bokura[\"pitch_trans\"], \"r--\", 0.1, fig, ax)\n",
    "plot_chord_chromagram(sabi_mousou[\"pitch_trans\"], \"b-\", -0.1, fig, ax)"
   ]
  },
  {
   "cell_type": "code",
   "execution_count": 36,
   "metadata": {},
   "outputs": [],
   "source": [
    "# plot_chord_chromagram(sabi_bokura[\"pitch_trans\"], \"r--\", 0.1)\n",
    "# plot_chord_chromagram(sabi_mousou[\"pitch_trans\"], \"b-\", -0.1)"
   ]
  },
  {
   "cell_type": "markdown",
   "metadata": {},
   "source": [
    "このままだと、和音の持続長さの情報を含めていないからグラフがズレます  \n",
    "→どうするか。  \n",
    "→単純に対応するだけならば、描画する線の右側の座標をbeat+1ではなくbeat+durationに変えるだけで良い  \n",
    "→けど、  \n",
    "→楽曲間のコードの一致率を計算しようとしたときに、durationがマチマチだと計算アルゴリズムが面倒になりそう  \n",
    "→durationのぶんだけコピーする（dutraionが2だったとこには同じコードを2個入れる。  \n",
    "結果、16単位だったら必ず16個のデータがあるようにする）"
   ]
  },
  {
   "cell_type": "code",
   "execution_count": 37,
   "metadata": {},
   "outputs": [],
   "source": [
    "# sabi_mousou_temp = sabi_mousou.copy()\n",
    "\n",
    "def convert_duration(df):\n",
    "    # df内部のduration情報をデータ個数に変換する関数\n",
    "    for _, chord in df.iterrows():\n",
    "        if chord[\"duration\"] > 1 :\n",
    "            duration = chord[\"duration\"]\n",
    "            base_index = chord.name\n",
    "            chord[\"duration\"] = 1 #★これは上手くいかない。新たに作ったSeriesを書き換えるだけでもとのdfに影響しない★\n",
    "            #chordと同一のデータをduration - 1個付加する\n",
    "            for i in range(duration - 1):\n",
    "                chord.name = base_index +  (i+1) * 0.1 #うーん、ここもだいぶ無理やりやな……\n",
    "                df = df.append(chord, verify_integrity = True)\n",
    "                # verify_integrity = Trueなので、インデックス重複によってappendが失敗したらErrorが上がる\n",
    "                # appendメソッドは自身を書き換えないので、元の変数を左辺に書いて代入しないと更新されないよ！！\n",
    "\n",
    "    df = df.sort_index()    # sort_indexメソッドは自身を書き換えないので 以下略\n",
    "    df[\"duration\"] = 1 # ★部分の埋め合わせ……もうちょい良い方法が無いものかな\n",
    "    return df\n",
    "    # dfは値渡しをされて(?)関数内でだけ変更されるから、元のdfは不変。ひとまず返り値で返す"
   ]
  },
  {
   "cell_type": "code",
   "execution_count": 38,
   "metadata": {},
   "outputs": [],
   "source": [
    "sabi_mousou_temp = sabi_mousou.copy()\n",
    "sabi_mousou_temp = convert_duration(sabi_mousou_temp)"
   ]
  },
  {
   "cell_type": "code",
   "execution_count": 39,
   "metadata": {},
   "outputs": [],
   "source": [
    "sabi_bokura_temp = sabi_bokura.copy()\n",
    "sabi_bokura_temp = convert_duration(sabi_bokura_temp)"
   ]
  },
  {
   "cell_type": "code",
   "execution_count": 40,
   "metadata": {},
   "outputs": [],
   "source": [
    "# plot_chord_chromagram(sabi_bokura_temp[\"pitch_trans\"], \"b-\", 0.1)\n",
    "# plot_chord_chromagram(sabi_mousou_temp[\"pitch_trans\"], \"r--\", -0.1)"
   ]
  },
  {
   "cell_type": "code",
   "execution_count": 41,
   "metadata": {},
   "outputs": [
    {
     "data": {
      "image/png": "[encoded data removed]",
      "text/plain": [
       "<Figure size 432x288 with 1 Axes>"
      ]
     },
     "metadata": {
      "needs_background": "light"
     },
     "output_type": "display_data"
    }
   ],
   "source": [
    "fig = plt.figure()\n",
    "ax = plt.axes()\n",
    "plot_chord_chromagram(sabi_bokura_temp[\"pitch_trans\"], \"b-\", 0.1, fig, ax)\n",
    "plot_chord_chromagram(sabi_mousou_temp[\"pitch_trans\"], \"r--\", -0.1, fig, ax)"
   ]
  },
  {
   "cell_type": "code",
   "execution_count": null,
   "metadata": {},
   "outputs": [],
   "source": []
  }
 ],
 "metadata": {
  "kernelspec": {
   "display_name": "Python 3",
   "language": "python",
   "name": "python3"
  },
  "language_info": {
   "codemirror_mode": {
    "name": "ipython",
    "version": 3
   },
   "file_extension": ".py",
   "mimetype": "text/x-python",
   "name": "python",
   "nbconvert_exporter": "python",
   "pygments_lexer": "ipython3",
   "version": "3.7.1"
  }
 },
 "nbformat": 4,
 "nbformat_minor": 2
}
